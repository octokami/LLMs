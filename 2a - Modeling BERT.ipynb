{
 "cells": [
  {
   "attachments": {},
   "cell_type": "markdown",
   "id": "d0422c89",
   "metadata": {},
   "source": [
    "# Modeling\n",
    "\"Small\" subsets Data from \n",
    "https://nijianmo.github.io/amazon/index.html (May 1996 - Oct 2018)\n",
    "\n",
    "Justifying recommendations using distantly-labeled reviews and fined-grained aspects\n",
    "Jianmo Ni, Jiacheng Li, Julian McAuley\n",
    "Empirical Methods in Natural Language Processing (EMNLP), 2019"
   ]
  },
  {
   "cell_type": "code",
   "execution_count": 56,
   "id": "25f90c62",
   "metadata": {},
   "outputs": [],
   "source": [
    "# Imports\n",
    "import pandas as pd\n",
    "import numpy as np\n",
    "import os\n",
    "import yaml\n",
    "from utils.text import *\n",
    "\n",
    "# NLP imports\n",
    "#conda install spacy\n",
    "import spacy\n",
    "#!python -m spacy download en_core_web_sm\n",
    "nlp = spacy.load('en_core_web_sm')\n",
    "nlp.Defaults.stop_words |= {'one','unit', 'part', 'item', 'thing', 'review', 'stuff'}\n",
    "#pip install aspect_based_sentiment_analysis\n",
    "import aspect_based_sentiment_analysis as absa\n",
    "#pip install textblob \n",
    "from textblob import TextBlob\n",
    "\n",
    "# String manipulation\n",
    "import re\n",
    "#conda install bs4\n",
    "from bs4 import BeautifulSoup\n",
    "#pip install contractions\n",
    "import contractions\n",
    "\n",
    "# Data visualisation\n",
    "import plotly.graph_objects as go\n",
    "import matplotlib.pyplot as plt\n",
    "#plt.style.use('ggplot')\n",
    "\n",
    "from sklearn.metrics import confusion_matrix, ConfusionMatrixDisplay, classification_report\n",
    "\n",
    "config = yaml.safe_load(open('config.yml'))\n",
    "\n",
    "# Output folder\n",
    "in_dir = config['in_dir']\n",
    "out_dir = config['out_dir']\n",
    "\n",
    "# Create the output directory\n",
    "if not os.path.exists(out_dir):\n",
    "    os.makedirs(out_dir)"
   ]
  },
  {
   "cell_type": "code",
   "execution_count": 57,
   "id": "a224b192",
   "metadata": {},
   "outputs": [
    {
     "data": {
      "text/html": [
       "<div>\n",
       "<style scoped>\n",
       "    .dataframe tbody tr th:only-of-type {\n",
       "        vertical-align: middle;\n",
       "    }\n",
       "\n",
       "    .dataframe tbody tr th {\n",
       "        vertical-align: top;\n",
       "    }\n",
       "\n",
       "    .dataframe thead th {\n",
       "        text-align: right;\n",
       "    }\n",
       "</style>\n",
       "<table border=\"1\" class=\"dataframe\">\n",
       "  <thead>\n",
       "    <tr style=\"text-align: right;\">\n",
       "      <th></th>\n",
       "      <th>id</th>\n",
       "      <th>text</th>\n",
       "      <th>completion</th>\n",
       "    </tr>\n",
       "  </thead>\n",
       "  <tbody>\n",
       "    <tr>\n",
       "      <th>0</th>\n",
       "      <td>en_BlueRibbonSushi_478218171</td>\n",
       "      <td>Yum! Serves really good sushi. Not the biggest...</td>\n",
       "      <td>NULL; positive\\nsushi; positive\\nportions; ne...</td>\n",
       "    </tr>\n",
       "    <tr>\n",
       "      <th>1</th>\n",
       "      <td>en_BlueRibbonSushi_478218345</td>\n",
       "      <td>No Comparison – I can't say enough about this ...</td>\n",
       "      <td>NULL; positive\\nplace; positive\\nsushi; posit...</td>\n",
       "    </tr>\n",
       "    <tr>\n",
       "      <th>2</th>\n",
       "      <td>en_SchoonerOrLater_477965690</td>\n",
       "      <td>Snotty Attitude – We were treated very rudely ...</td>\n",
       "      <td>NULL; negative\\nowner; negative END</td>\n",
       "    </tr>\n",
       "    <tr>\n",
       "      <th>3</th>\n",
       "      <td>en_SchoonerOrLater_477965849</td>\n",
       "      <td>Good food! – We love breakfast food. This is a...</td>\n",
       "      <td>food; positive\\nmeal; positive\\nNULL; positiv...</td>\n",
       "    </tr>\n",
       "    <tr>\n",
       "      <th>4</th>\n",
       "      <td>en_PagodaRestaurant_478006817</td>\n",
       "      <td>Overrated – I was highly disappointed in the f...</td>\n",
       "      <td>NULL; negative\\nfood; negative\\nlemon chicken...</td>\n",
       "    </tr>\n",
       "    <tr>\n",
       "      <th>...</th>\n",
       "      <td>...</td>\n",
       "      <td>...</td>\n",
       "      <td>...</td>\n",
       "    </tr>\n",
       "    <tr>\n",
       "      <th>89</th>\n",
       "      <td>en_Ray'sBoathouse_477775918</td>\n",
       "      <td>Much more than just a great view! – I am excee...</td>\n",
       "      <td>view; positive\\nNULL; positive\\nRay's Boathou...</td>\n",
       "    </tr>\n",
       "    <tr>\n",
       "      <th>89</th>\n",
       "      <td>en_Ray'sBoathouse_477775918</td>\n",
       "      <td>of two was feeling particularly ambitious, and...</td>\n",
       "      <td>view; positive\\nNULL; positive\\nRay's Boathou...</td>\n",
       "    </tr>\n",
       "    <tr>\n",
       "      <th>89</th>\n",
       "      <td>en_Ray'sBoathouse_477775918</td>\n",
       "      <td>makes them unique (not to mention tasty). My f...</td>\n",
       "      <td>view; positive\\nNULL; positive\\nRay's Boathou...</td>\n",
       "    </tr>\n",
       "    <tr>\n",
       "      <th>89</th>\n",
       "      <td>en_Ray'sBoathouse_477775918</td>\n",
       "      <td>preteen who pretended to gag every time seafoo...</td>\n",
       "      <td>view; positive\\nNULL; positive\\nRay's Boathou...</td>\n",
       "    </tr>\n",
       "    <tr>\n",
       "      <th>89</th>\n",
       "      <td>en_Ray'sBoathouse_477775918</td>\n",
       "      <td>###</td>\n",
       "      <td>view; positive\\nNULL; positive\\nRay's Boathou...</td>\n",
       "    </tr>\n",
       "  </tbody>\n",
       "</table>\n",
       "<p>163 rows × 3 columns</p>\n",
       "</div>"
      ],
      "text/plain": [
       "                               id  \\\n",
       "0    en_BlueRibbonSushi_478218171   \n",
       "1    en_BlueRibbonSushi_478218345   \n",
       "2    en_SchoonerOrLater_477965690   \n",
       "3    en_SchoonerOrLater_477965849   \n",
       "4   en_PagodaRestaurant_478006817   \n",
       "..                            ...   \n",
       "89    en_Ray'sBoathouse_477775918   \n",
       "89    en_Ray'sBoathouse_477775918   \n",
       "89    en_Ray'sBoathouse_477775918   \n",
       "89    en_Ray'sBoathouse_477775918   \n",
       "89    en_Ray'sBoathouse_477775918   \n",
       "\n",
       "                                                 text  \\\n",
       "0   Yum! Serves really good sushi. Not the biggest...   \n",
       "1   No Comparison – I can't say enough about this ...   \n",
       "2   Snotty Attitude – We were treated very rudely ...   \n",
       "3   Good food! – We love breakfast food. This is a...   \n",
       "4   Overrated – I was highly disappointed in the f...   \n",
       "..                                                ...   \n",
       "89  Much more than just a great view! – I am excee...   \n",
       "89  of two was feeling particularly ambitious, and...   \n",
       "89  makes them unique (not to mention tasty). My f...   \n",
       "89  preteen who pretended to gag every time seafoo...   \n",
       "89                                                ###   \n",
       "\n",
       "                                           completion  \n",
       "0    NULL; positive\\nsushi; positive\\nportions; ne...  \n",
       "1    NULL; positive\\nplace; positive\\nsushi; posit...  \n",
       "2                 NULL; negative\\nowner; negative END  \n",
       "3    food; positive\\nmeal; positive\\nNULL; positiv...  \n",
       "4    NULL; negative\\nfood; negative\\nlemon chicken...  \n",
       "..                                                ...  \n",
       "89   view; positive\\nNULL; positive\\nRay's Boathou...  \n",
       "89   view; positive\\nNULL; positive\\nRay's Boathou...  \n",
       "89   view; positive\\nNULL; positive\\nRay's Boathou...  \n",
       "89   view; positive\\nNULL; positive\\nRay's Boathou...  \n",
       "89   view; positive\\nNULL; positive\\nRay's Boathou...  \n",
       "\n",
       "[163 rows x 3 columns]"
      ]
     },
     "execution_count": 57,
     "metadata": {},
     "output_type": "execute_result"
    }
   ],
   "source": [
    "product = 'SemEval'\n",
    "test_df = xml_to_dataframe(os.path.join(in_dir, 'raw\\EN_REST_SB1_TEST.xml.gold'), format='jsonl', output_file = 'test_data', in_dir = in_dir)\n",
    "test_df = test_df.rename(columns={'prompt':'text', 'id': 'review_id'})\n",
    "# Limiting size of text due to memory overload\n",
    "test_df = break_row_by_size(test_df)\n",
    "test_df"
   ]
  },
  {
   "attachments": {},
   "cell_type": "markdown",
   "id": "871d2080-6593-4988-ad39-2a7545c2bee4",
   "metadata": {},
   "source": [
    "## Aspect Extraction"
   ]
  },
  {
   "attachments": {},
   "cell_type": "markdown",
   "id": "d01e5962",
   "metadata": {},
   "source": [
    "### Rule based"
   ]
  },
  {
   "cell_type": "code",
   "execution_count": 58,
   "id": "812a898a",
   "metadata": {},
   "outputs": [],
   "source": [
    "def clean_text(text, stop_words = nlp.Defaults.stop_words, nlp = nlp, TextBlob = TextBlob, contractions = contractions):\n",
    "    '''\n",
    "    Return text with the modifications:\n",
    "    Normalization (lowercase), Removal of unwanted characters and stopwords and lemmatization\n",
    "    ''' \n",
    "    # Tabs\n",
    "    #text = re.sub(r\"[\\n][\\t]*|[\\t]\", \" \", text) \n",
    "    # HTML tags removal\n",
    "    #text = BeautifulSoup(text, 'html.parser').get_text()\n",
    "    # Normalization (lowercase)\n",
    "    text = text.lower()\n",
    "    # Removing mentions (@person) and Hashtags #topic, \n",
    "    #text = re.sub(r\"(@|#\\ z0-9]+)|([^0-9A-Za-z \\t])|^rt\", \"\", text)\n",
    "    # Links: http://\n",
    "    #text = re.sub(r\"https?:\\/\\/.*[\\r\\n]*\", \"\", text, flags=re.MULTILINE) \n",
    "    # Contractions\n",
    "    text = contractions.fix(text)\n",
    "    # Removal of unwanted characters\n",
    "    text = re.sub(r'[_\"\\-;%()|+&=*%.,!?:#$@\\[\\]/]', '', text)\n",
    "    # Numbers\n",
    "    text = re.sub(r\"[0-9]\", \"\",text)\n",
    "    # too long words: Incomprehensibilities is longest word “in common usage\" or single letters\n",
    "    text = re.sub(r\"\\b\\w{25,90}\\b|\\b\\w{1}\\b\", \"\",text)\n",
    "    \n",
    "    # Spelling correction\n",
    "    text = str(TextBlob(text).correct())\n",
    "\n",
    "    # Lemmatization\n",
    "    lemmatized = []\n",
    "     \n",
    "    doc = nlp(text)\n",
    "    for token in doc:\n",
    "        lemmatized.append(token.lemma_)\n",
    "    \n",
    "    # Removing Stopwords\n",
    "    if stop_words:    \n",
    "        text = \" \".join([word for word in lemmatized if word not in (stop_words)])\n",
    "    text = re.sub(r'\\s+',' ',text)\n",
    "        \n",
    "    return text.strip()"
   ]
  },
  {
   "cell_type": "code",
   "execution_count": 59,
   "id": "d0c988db",
   "metadata": {},
   "outputs": [],
   "source": [
    "def get_absa(text, nlp=nlp):\n",
    "    '''\n",
    "    Aspect based Sentiment Analysis\n",
    "    Input:  text as a string\n",
    "            Spacy's nlp\n",
    "    Output: For each noun get the list of Adjectives and their adverbs\n",
    "\n",
    "    '''\n",
    "    doc = nlp(text)\n",
    "    aspects = []\n",
    "    for sentence in doc.sents:\n",
    "        description = ''\n",
    "        aspect = ''\n",
    "        for token in sentence:\n",
    "            if token.dep_ == 'nsubj' and token.pos_ == 'NOUN':\n",
    "                aspect = token.text\n",
    "            if token.pos_ == 'ADJ':\n",
    "                prepend = ''\n",
    "                for child in token.children:\n",
    "                    if child.pos_ != 'ADV':\n",
    "                        continue\n",
    "                    prepend += child.text + ' '\n",
    "                description = prepend + token.text\n",
    "        if (aspect != '' or description != ''):\n",
    "            aspects.append({'aspect': aspect,'description': description})\n",
    "    return aspects"
   ]
  },
  {
   "cell_type": "code",
   "execution_count": 60,
   "id": "2bc723c1",
   "metadata": {},
   "outputs": [],
   "source": [
    "#12min\n",
    "# Text Cleaning\n",
    "test_df['text_clean'] = test_df['text'].apply(lambda text: clean_text(text))"
   ]
  },
  {
   "cell_type": "code",
   "execution_count": 61,
   "id": "5a01240a",
   "metadata": {},
   "outputs": [
    {
     "data": {
      "text/html": [
       "<div>\n",
       "<style scoped>\n",
       "    .dataframe tbody tr th:only-of-type {\n",
       "        vertical-align: middle;\n",
       "    }\n",
       "\n",
       "    .dataframe tbody tr th {\n",
       "        vertical-align: top;\n",
       "    }\n",
       "\n",
       "    .dataframe thead th {\n",
       "        text-align: right;\n",
       "    }\n",
       "</style>\n",
       "<table border=\"1\" class=\"dataframe\">\n",
       "  <thead>\n",
       "    <tr style=\"text-align: right;\">\n",
       "      <th></th>\n",
       "      <th>id</th>\n",
       "      <th>text</th>\n",
       "      <th>completion</th>\n",
       "      <th>text_clean</th>\n",
       "      <th>absa_rule</th>\n",
       "    </tr>\n",
       "  </thead>\n",
       "  <tbody>\n",
       "    <tr>\n",
       "      <th>0</th>\n",
       "      <td>en_BlueRibbonSushi_478218171</td>\n",
       "      <td>Yum! Serves really good sushi. Not the biggest...</td>\n",
       "      <td>NULL; positive\\nsushi; positive\\nportions; ne...</td>\n",
       "      <td>sum serve good big portion adequate green tea ...</td>\n",
       "      <td>[{'aspect': 'rule', 'description': 'green'}]</td>\n",
       "    </tr>\n",
       "    <tr>\n",
       "      <th>1</th>\n",
       "      <td>en_BlueRibbonSushi_478218345</td>\n",
       "      <td>No Comparison – I can't say enough about this ...</td>\n",
       "      <td>NULL; positive\\nplace; positive\\nsushi; posit...</td>\n",
       "      <td>comparison – place great service entire staff ...</td>\n",
       "      <td>[{'aspect': 'comparison', 'description': 'extr...</td>\n",
       "    </tr>\n",
       "    <tr>\n",
       "      <th>2</th>\n",
       "      <td>en_SchoonerOrLater_477965690</td>\n",
       "      <td>Snotty Attitude – We were treated very rudely ...</td>\n",
       "      <td>NULL; negative\\nowner; negative END</td>\n",
       "      <td>knotty attitude – treat rudely time breakfast ...</td>\n",
       "      <td>[{'aspect': 'attitude', 'description': 'rudely'}]</td>\n",
       "    </tr>\n",
       "    <tr>\n",
       "      <th>3</th>\n",
       "      <td>en_SchoonerOrLater_477965849</td>\n",
       "      <td>Good food! – We love breakfast food. This is a...</td>\n",
       "      <td>food; positive\\nmeal; positive\\nNULL; positiv...</td>\n",
       "      <td>good food – love breakfast food great place de...</td>\n",
       "      <td>[{'aspect': 'staff', 'description': 'great'}]</td>\n",
       "    </tr>\n",
       "    <tr>\n",
       "      <th>4</th>\n",
       "      <td>en_PagodaRestaurant_478006817</td>\n",
       "      <td>Overrated – I was highly disappointed in the f...</td>\n",
       "      <td>NULL; negative\\nfood; negative\\nlemon chicken...</td>\n",
       "      <td>operate – highly disappointed food pagoda lemo...</td>\n",
       "      <td>[{'aspect': '', 'description': 'nice'}]</td>\n",
       "    </tr>\n",
       "  </tbody>\n",
       "</table>\n",
       "</div>"
      ],
      "text/plain": [
       "                              id  \\\n",
       "0   en_BlueRibbonSushi_478218171   \n",
       "1   en_BlueRibbonSushi_478218345   \n",
       "2   en_SchoonerOrLater_477965690   \n",
       "3   en_SchoonerOrLater_477965849   \n",
       "4  en_PagodaRestaurant_478006817   \n",
       "\n",
       "                                                text  \\\n",
       "0  Yum! Serves really good sushi. Not the biggest...   \n",
       "1  No Comparison – I can't say enough about this ...   \n",
       "2  Snotty Attitude – We were treated very rudely ...   \n",
       "3  Good food! – We love breakfast food. This is a...   \n",
       "4  Overrated – I was highly disappointed in the f...   \n",
       "\n",
       "                                          completion  \\\n",
       "0   NULL; positive\\nsushi; positive\\nportions; ne...   \n",
       "1   NULL; positive\\nplace; positive\\nsushi; posit...   \n",
       "2                NULL; negative\\nowner; negative END   \n",
       "3   food; positive\\nmeal; positive\\nNULL; positiv...   \n",
       "4   NULL; negative\\nfood; negative\\nlemon chicken...   \n",
       "\n",
       "                                          text_clean  \\\n",
       "0  sum serve good big portion adequate green tea ...   \n",
       "1  comparison – place great service entire staff ...   \n",
       "2  knotty attitude – treat rudely time breakfast ...   \n",
       "3  good food – love breakfast food great place de...   \n",
       "4  operate – highly disappointed food pagoda lemo...   \n",
       "\n",
       "                                           absa_rule  \n",
       "0       [{'aspect': 'rule', 'description': 'green'}]  \n",
       "1  [{'aspect': 'comparison', 'description': 'extr...  \n",
       "2  [{'aspect': 'attitude', 'description': 'rudely'}]  \n",
       "3      [{'aspect': 'staff', 'description': 'great'}]  \n",
       "4            [{'aspect': '', 'description': 'nice'}]  "
      ]
     },
     "execution_count": 61,
     "metadata": {},
     "output_type": "execute_result"
    }
   ],
   "source": [
    "# Aspect Based Sentiment Analysis\n",
    "test_df['absa_rule'] = test_df['text_clean'].apply(lambda text: get_absa(text))\n",
    "test_df.head()"
   ]
  },
  {
   "cell_type": "code",
   "execution_count": 76,
   "id": "b184ea52",
   "metadata": {},
   "outputs": [],
   "source": [
    "# Dataframe for each aspect\n",
    "def show_aspects_graph(test_df = test_df, n = 15, out_dir = out_dir, product = product):\n",
    "  \"\"\"\n",
    "  n: int of how many aspects are shown\n",
    "  out_dir: directory of output for the aspects and descriptions\n",
    "  \"\"\"\n",
    "  absa_df = pd.DataFrame()\n",
    "  for i, row in enumerate(test_df['absa_rule']):\n",
    "    absa_df_new = pd.DataFrame.from_records(row)\n",
    "    absa_df_new['index'] = i\n",
    "    \n",
    "    absa_df = pd.concat([absa_df, absa_df_new], ignore_index=True)\n",
    "\n",
    "  # Aspects's description per rule based method\n",
    "  aspects_rule_based_df = absa_df.groupby(['aspect'])['description'].apply(lambda x: ', '.join(x))\n",
    "  # Save\n",
    "  aspects_rule_based_df.to_csv(os.path.join(out_dir, product+'_aspects_rule_based_df.csv'), sep=';', index=False)\n",
    "\n",
    "  data = absa_df['aspect'].value_counts()[:n]\n",
    "  # Create a horizontal bar plot\n",
    "  fig = go.Figure(data=go.Bar(\n",
    "      x=data.values,\n",
    "      y=data.index,\n",
    "      orientation='h',\n",
    "      text = data.values\n",
    "  ))\n",
    "\n",
    "  # Set the layout\n",
    "  fig.update_layout(\n",
    "      title=f'Top {n} aspects',\n",
    "      xaxis_title='Amount of reviews containing the aspect',\n",
    "      yaxis_title='Aspects',\n",
    "      yaxis=dict(autorange='reversed')\n",
    "  )\n",
    "\n",
    "  return fig\n",
    "\n",
    "def formatting_for_absa(test_df = test_df):\n",
    "  \"\"\"\n",
    "  \"\"\"\n",
    "  # List of aspects: list comprehension is faster than vectorisation \n",
    "  #https://stackoverflow.com/questions/54028199/are-for-loops-in-pandas-really-bad-when-should-i-care/54028200#54028200\n",
    "  test_df['aspect'] = test_df['absa_rule'].apply(lambda x: [i['aspect'] for i in x if len(i['aspect'])>1 ])\n",
    "  # Remove repeated aspects\n",
    "  test_df['aspect'] = test_df['aspect'].apply(lambda x: list(dict.fromkeys(x)))\n",
    "  # Filling in when aspect is not found\n",
    "  #test_df['aspect'] = test_df['aspect'].apply(lambda x: x['product'] if len(x)==0 else x)\n",
    "  # Removing when aspect is not found\n",
    "  test_df = test_df[test_df['aspect'].str.len() > 0].reset_index(drop=True)\n",
    "  # Limiting size of text due to memory overload\n",
    "  #product_df['text'] = product_df['text'].apply(lambda text: text[:525])\n",
    "  return test_df "
   ]
  },
  {
   "cell_type": "code",
   "execution_count": 78,
   "id": "e5d556e0",
   "metadata": {},
   "outputs": [
    {
     "data": {
      "application/vnd.plotly.v1+json": {
       "config": {
        "plotlyServerURL": "https://plot.ly"
       },
       "data": [
        {
         "orientation": "h",
         "text": [
          23,
          6,
          5,
          3,
          2,
          2,
          2,
          2,
          2,
          2,
          2,
          2,
          2,
          2,
          2
         ],
         "type": "bar",
         "x": [
          23,
          6,
          5,
          3,
          2,
          2,
          2,
          2,
          2,
          2,
          2,
          2,
          2,
          2,
          2
         ],
         "y": [
          "",
          "place",
          "people",
          "restaurant",
          "minute",
          "sake",
          "breakfast",
          "service",
          "menu",
          "friend",
          "area",
          "ribbon",
          "attitude",
          "staff",
          "food"
         ]
        }
       ],
       "layout": {
        "template": {
         "data": {
          "bar": [
           {
            "error_x": {
             "color": "#2a3f5f"
            },
            "error_y": {
             "color": "#2a3f5f"
            },
            "marker": {
             "line": {
              "color": "#E5ECF6",
              "width": 0.5
             },
             "pattern": {
              "fillmode": "overlay",
              "size": 10,
              "solidity": 0.2
             }
            },
            "type": "bar"
           }
          ],
          "barpolar": [
           {
            "marker": {
             "line": {
              "color": "#E5ECF6",
              "width": 0.5
             },
             "pattern": {
              "fillmode": "overlay",
              "size": 10,
              "solidity": 0.2
             }
            },
            "type": "barpolar"
           }
          ],
          "carpet": [
           {
            "aaxis": {
             "endlinecolor": "#2a3f5f",
             "gridcolor": "white",
             "linecolor": "white",
             "minorgridcolor": "white",
             "startlinecolor": "#2a3f5f"
            },
            "baxis": {
             "endlinecolor": "#2a3f5f",
             "gridcolor": "white",
             "linecolor": "white",
             "minorgridcolor": "white",
             "startlinecolor": "#2a3f5f"
            },
            "type": "carpet"
           }
          ],
          "choropleth": [
           {
            "colorbar": {
             "outlinewidth": 0,
             "ticks": ""
            },
            "type": "choropleth"
           }
          ],
          "contour": [
           {
            "colorbar": {
             "outlinewidth": 0,
             "ticks": ""
            },
            "colorscale": [
             [
              0,
              "#0d0887"
             ],
             [
              0.1111111111111111,
              "#46039f"
             ],
             [
              0.2222222222222222,
              "#7201a8"
             ],
             [
              0.3333333333333333,
              "#9c179e"
             ],
             [
              0.4444444444444444,
              "#bd3786"
             ],
             [
              0.5555555555555556,
              "#d8576b"
             ],
             [
              0.6666666666666666,
              "#ed7953"
             ],
             [
              0.7777777777777778,
              "#fb9f3a"
             ],
             [
              0.8888888888888888,
              "#fdca26"
             ],
             [
              1,
              "#f0f921"
             ]
            ],
            "type": "contour"
           }
          ],
          "contourcarpet": [
           {
            "colorbar": {
             "outlinewidth": 0,
             "ticks": ""
            },
            "type": "contourcarpet"
           }
          ],
          "heatmap": [
           {
            "colorbar": {
             "outlinewidth": 0,
             "ticks": ""
            },
            "colorscale": [
             [
              0,
              "#0d0887"
             ],
             [
              0.1111111111111111,
              "#46039f"
             ],
             [
              0.2222222222222222,
              "#7201a8"
             ],
             [
              0.3333333333333333,
              "#9c179e"
             ],
             [
              0.4444444444444444,
              "#bd3786"
             ],
             [
              0.5555555555555556,
              "#d8576b"
             ],
             [
              0.6666666666666666,
              "#ed7953"
             ],
             [
              0.7777777777777778,
              "#fb9f3a"
             ],
             [
              0.8888888888888888,
              "#fdca26"
             ],
             [
              1,
              "#f0f921"
             ]
            ],
            "type": "heatmap"
           }
          ],
          "heatmapgl": [
           {
            "colorbar": {
             "outlinewidth": 0,
             "ticks": ""
            },
            "colorscale": [
             [
              0,
              "#0d0887"
             ],
             [
              0.1111111111111111,
              "#46039f"
             ],
             [
              0.2222222222222222,
              "#7201a8"
             ],
             [
              0.3333333333333333,
              "#9c179e"
             ],
             [
              0.4444444444444444,
              "#bd3786"
             ],
             [
              0.5555555555555556,
              "#d8576b"
             ],
             [
              0.6666666666666666,
              "#ed7953"
             ],
             [
              0.7777777777777778,
              "#fb9f3a"
             ],
             [
              0.8888888888888888,
              "#fdca26"
             ],
             [
              1,
              "#f0f921"
             ]
            ],
            "type": "heatmapgl"
           }
          ],
          "histogram": [
           {
            "marker": {
             "pattern": {
              "fillmode": "overlay",
              "size": 10,
              "solidity": 0.2
             }
            },
            "type": "histogram"
           }
          ],
          "histogram2d": [
           {
            "colorbar": {
             "outlinewidth": 0,
             "ticks": ""
            },
            "colorscale": [
             [
              0,
              "#0d0887"
             ],
             [
              0.1111111111111111,
              "#46039f"
             ],
             [
              0.2222222222222222,
              "#7201a8"
             ],
             [
              0.3333333333333333,
              "#9c179e"
             ],
             [
              0.4444444444444444,
              "#bd3786"
             ],
             [
              0.5555555555555556,
              "#d8576b"
             ],
             [
              0.6666666666666666,
              "#ed7953"
             ],
             [
              0.7777777777777778,
              "#fb9f3a"
             ],
             [
              0.8888888888888888,
              "#fdca26"
             ],
             [
              1,
              "#f0f921"
             ]
            ],
            "type": "histogram2d"
           }
          ],
          "histogram2dcontour": [
           {
            "colorbar": {
             "outlinewidth": 0,
             "ticks": ""
            },
            "colorscale": [
             [
              0,
              "#0d0887"
             ],
             [
              0.1111111111111111,
              "#46039f"
             ],
             [
              0.2222222222222222,
              "#7201a8"
             ],
             [
              0.3333333333333333,
              "#9c179e"
             ],
             [
              0.4444444444444444,
              "#bd3786"
             ],
             [
              0.5555555555555556,
              "#d8576b"
             ],
             [
              0.6666666666666666,
              "#ed7953"
             ],
             [
              0.7777777777777778,
              "#fb9f3a"
             ],
             [
              0.8888888888888888,
              "#fdca26"
             ],
             [
              1,
              "#f0f921"
             ]
            ],
            "type": "histogram2dcontour"
           }
          ],
          "mesh3d": [
           {
            "colorbar": {
             "outlinewidth": 0,
             "ticks": ""
            },
            "type": "mesh3d"
           }
          ],
          "parcoords": [
           {
            "line": {
             "colorbar": {
              "outlinewidth": 0,
              "ticks": ""
             }
            },
            "type": "parcoords"
           }
          ],
          "pie": [
           {
            "automargin": true,
            "type": "pie"
           }
          ],
          "scatter": [
           {
            "fillpattern": {
             "fillmode": "overlay",
             "size": 10,
             "solidity": 0.2
            },
            "type": "scatter"
           }
          ],
          "scatter3d": [
           {
            "line": {
             "colorbar": {
              "outlinewidth": 0,
              "ticks": ""
             }
            },
            "marker": {
             "colorbar": {
              "outlinewidth": 0,
              "ticks": ""
             }
            },
            "type": "scatter3d"
           }
          ],
          "scattercarpet": [
           {
            "marker": {
             "colorbar": {
              "outlinewidth": 0,
              "ticks": ""
             }
            },
            "type": "scattercarpet"
           }
          ],
          "scattergeo": [
           {
            "marker": {
             "colorbar": {
              "outlinewidth": 0,
              "ticks": ""
             }
            },
            "type": "scattergeo"
           }
          ],
          "scattergl": [
           {
            "marker": {
             "colorbar": {
              "outlinewidth": 0,
              "ticks": ""
             }
            },
            "type": "scattergl"
           }
          ],
          "scattermapbox": [
           {
            "marker": {
             "colorbar": {
              "outlinewidth": 0,
              "ticks": ""
             }
            },
            "type": "scattermapbox"
           }
          ],
          "scatterpolar": [
           {
            "marker": {
             "colorbar": {
              "outlinewidth": 0,
              "ticks": ""
             }
            },
            "type": "scatterpolar"
           }
          ],
          "scatterpolargl": [
           {
            "marker": {
             "colorbar": {
              "outlinewidth": 0,
              "ticks": ""
             }
            },
            "type": "scatterpolargl"
           }
          ],
          "scatterternary": [
           {
            "marker": {
             "colorbar": {
              "outlinewidth": 0,
              "ticks": ""
             }
            },
            "type": "scatterternary"
           }
          ],
          "surface": [
           {
            "colorbar": {
             "outlinewidth": 0,
             "ticks": ""
            },
            "colorscale": [
             [
              0,
              "#0d0887"
             ],
             [
              0.1111111111111111,
              "#46039f"
             ],
             [
              0.2222222222222222,
              "#7201a8"
             ],
             [
              0.3333333333333333,
              "#9c179e"
             ],
             [
              0.4444444444444444,
              "#bd3786"
             ],
             [
              0.5555555555555556,
              "#d8576b"
             ],
             [
              0.6666666666666666,
              "#ed7953"
             ],
             [
              0.7777777777777778,
              "#fb9f3a"
             ],
             [
              0.8888888888888888,
              "#fdca26"
             ],
             [
              1,
              "#f0f921"
             ]
            ],
            "type": "surface"
           }
          ],
          "table": [
           {
            "cells": {
             "fill": {
              "color": "#EBF0F8"
             },
             "line": {
              "color": "white"
             }
            },
            "header": {
             "fill": {
              "color": "#C8D4E3"
             },
             "line": {
              "color": "white"
             }
            },
            "type": "table"
           }
          ]
         },
         "layout": {
          "annotationdefaults": {
           "arrowcolor": "#2a3f5f",
           "arrowhead": 0,
           "arrowwidth": 1
          },
          "autotypenumbers": "strict",
          "coloraxis": {
           "colorbar": {
            "outlinewidth": 0,
            "ticks": ""
           }
          },
          "colorscale": {
           "diverging": [
            [
             0,
             "#8e0152"
            ],
            [
             0.1,
             "#c51b7d"
            ],
            [
             0.2,
             "#de77ae"
            ],
            [
             0.3,
             "#f1b6da"
            ],
            [
             0.4,
             "#fde0ef"
            ],
            [
             0.5,
             "#f7f7f7"
            ],
            [
             0.6,
             "#e6f5d0"
            ],
            [
             0.7,
             "#b8e186"
            ],
            [
             0.8,
             "#7fbc41"
            ],
            [
             0.9,
             "#4d9221"
            ],
            [
             1,
             "#276419"
            ]
           ],
           "sequential": [
            [
             0,
             "#0d0887"
            ],
            [
             0.1111111111111111,
             "#46039f"
            ],
            [
             0.2222222222222222,
             "#7201a8"
            ],
            [
             0.3333333333333333,
             "#9c179e"
            ],
            [
             0.4444444444444444,
             "#bd3786"
            ],
            [
             0.5555555555555556,
             "#d8576b"
            ],
            [
             0.6666666666666666,
             "#ed7953"
            ],
            [
             0.7777777777777778,
             "#fb9f3a"
            ],
            [
             0.8888888888888888,
             "#fdca26"
            ],
            [
             1,
             "#f0f921"
            ]
           ],
           "sequentialminus": [
            [
             0,
             "#0d0887"
            ],
            [
             0.1111111111111111,
             "#46039f"
            ],
            [
             0.2222222222222222,
             "#7201a8"
            ],
            [
             0.3333333333333333,
             "#9c179e"
            ],
            [
             0.4444444444444444,
             "#bd3786"
            ],
            [
             0.5555555555555556,
             "#d8576b"
            ],
            [
             0.6666666666666666,
             "#ed7953"
            ],
            [
             0.7777777777777778,
             "#fb9f3a"
            ],
            [
             0.8888888888888888,
             "#fdca26"
            ],
            [
             1,
             "#f0f921"
            ]
           ]
          },
          "colorway": [
           "#636efa",
           "#EF553B",
           "#00cc96",
           "#ab63fa",
           "#FFA15A",
           "#19d3f3",
           "#FF6692",
           "#B6E880",
           "#FF97FF",
           "#FECB52"
          ],
          "font": {
           "color": "#2a3f5f"
          },
          "geo": {
           "bgcolor": "white",
           "lakecolor": "white",
           "landcolor": "#E5ECF6",
           "showlakes": true,
           "showland": true,
           "subunitcolor": "white"
          },
          "hoverlabel": {
           "align": "left"
          },
          "hovermode": "closest",
          "mapbox": {
           "style": "light"
          },
          "paper_bgcolor": "white",
          "plot_bgcolor": "#E5ECF6",
          "polar": {
           "angularaxis": {
            "gridcolor": "white",
            "linecolor": "white",
            "ticks": ""
           },
           "bgcolor": "#E5ECF6",
           "radialaxis": {
            "gridcolor": "white",
            "linecolor": "white",
            "ticks": ""
           }
          },
          "scene": {
           "xaxis": {
            "backgroundcolor": "#E5ECF6",
            "gridcolor": "white",
            "gridwidth": 2,
            "linecolor": "white",
            "showbackground": true,
            "ticks": "",
            "zerolinecolor": "white"
           },
           "yaxis": {
            "backgroundcolor": "#E5ECF6",
            "gridcolor": "white",
            "gridwidth": 2,
            "linecolor": "white",
            "showbackground": true,
            "ticks": "",
            "zerolinecolor": "white"
           },
           "zaxis": {
            "backgroundcolor": "#E5ECF6",
            "gridcolor": "white",
            "gridwidth": 2,
            "linecolor": "white",
            "showbackground": true,
            "ticks": "",
            "zerolinecolor": "white"
           }
          },
          "shapedefaults": {
           "line": {
            "color": "#2a3f5f"
           }
          },
          "ternary": {
           "aaxis": {
            "gridcolor": "white",
            "linecolor": "white",
            "ticks": ""
           },
           "baxis": {
            "gridcolor": "white",
            "linecolor": "white",
            "ticks": ""
           },
           "bgcolor": "#E5ECF6",
           "caxis": {
            "gridcolor": "white",
            "linecolor": "white",
            "ticks": ""
           }
          },
          "title": {
           "x": 0.05
          },
          "xaxis": {
           "automargin": true,
           "gridcolor": "white",
           "linecolor": "white",
           "ticks": "",
           "title": {
            "standoff": 15
           },
           "zerolinecolor": "white",
           "zerolinewidth": 2
          },
          "yaxis": {
           "automargin": true,
           "gridcolor": "white",
           "linecolor": "white",
           "ticks": "",
           "title": {
            "standoff": 15
           },
           "zerolinecolor": "white",
           "zerolinewidth": 2
          }
         }
        },
        "title": {
         "text": "Top 15 aspects"
        },
        "xaxis": {
         "title": {
          "text": "Amount of reviews containing the aspect"
         }
        },
        "yaxis": {
         "autorange": "reversed",
         "title": {
          "text": "Aspects"
         }
        }
       }
      }
     },
     "metadata": {},
     "output_type": "display_data"
    }
   ],
   "source": [
    "fig = show_aspects_graph()\n",
    "fig.show()\n",
    "\n",
    "test_df = formatting_for_absa()"
   ]
  },
  {
   "attachments": {},
   "cell_type": "markdown",
   "id": "2567e9a0",
   "metadata": {},
   "source": [
    "## Sentiment Analysis"
   ]
  },
  {
   "cell_type": "code",
   "execution_count": 53,
   "id": "0ccfd617",
   "metadata": {},
   "outputs": [
    {
     "name": "stderr",
     "output_type": "stream",
     "text": [
      "Some layers from the model checkpoint at absa/classifier-rest-0.2 were not used when initializing BertABSClassifier: ['dropout_379']\n",
      "- This IS expected if you are initializing BertABSClassifier from the checkpoint of a model trained on another task or with another architecture (e.g. initializing a BertForSequenceClassification model from a BertForPreTraining model).\n",
      "- This IS NOT expected if you are initializing BertABSClassifier from the checkpoint of a model that you expect to be exactly identical (initializing a BertForSequenceClassification model from a BertForSequenceClassification model).\n",
      "Some layers of BertABSClassifier were not initialized from the model checkpoint at absa/classifier-rest-0.2 and are newly initialized: ['dropout_113']\n",
      "You should probably TRAIN this model on a down-stream task to be able to use it for predictions and inference.\n"
     ]
    }
   ],
   "source": [
    "# From https://rafalrolczynski.com/2021/03/07/aspect-based-sentiment-analysis/\n",
    "import aspect_based_sentiment_analysis as absa\n",
    "from transformers import BertTokenizer\n",
    "\n",
    "#from transformers import TFAutoModel\n",
    "#model = TFAutoModel.from_pretrained(\"absa/classifier-rest-0.2\")\n",
    "\n",
    "# model_name = \"absa/classifier-rest-0.2\"\n",
    "# model = absa.BertABSClassifier.from_pretrained(model_name)\n",
    "# tokenizer = BertTokenizer.from_pretrained(model_name)\n",
    "# professor = absa.Professor(...)\n",
    "# text_splitter = absa.sentencizer()  # The English CNN model from SpaCy.\n",
    "# nlp_absa = absa.Pipeline(model, tokenizer, text_splitter) #, professor\n",
    "\n",
    "nlp_absa = absa.load()\n"
   ]
  },
  {
   "cell_type": "code",
   "execution_count": 79,
   "id": "a3abd709",
   "metadata": {},
   "outputs": [
    {
     "data": {
      "text/html": [
       "<div>\n",
       "<style scoped>\n",
       "    .dataframe tbody tr th:only-of-type {\n",
       "        vertical-align: middle;\n",
       "    }\n",
       "\n",
       "    .dataframe tbody tr th {\n",
       "        vertical-align: top;\n",
       "    }\n",
       "\n",
       "    .dataframe thead th {\n",
       "        text-align: right;\n",
       "    }\n",
       "</style>\n",
       "<table border=\"1\" class=\"dataframe\">\n",
       "  <thead>\n",
       "    <tr style=\"text-align: right;\">\n",
       "      <th></th>\n",
       "      <th>id</th>\n",
       "      <th>text</th>\n",
       "      <th>completion</th>\n",
       "      <th>text_clean</th>\n",
       "      <th>absa_rule</th>\n",
       "      <th>aspect</th>\n",
       "      <th>absa</th>\n",
       "    </tr>\n",
       "  </thead>\n",
       "  <tbody>\n",
       "    <tr>\n",
       "      <th>0</th>\n",
       "      <td>en_BlueRibbonSushi_478218171</td>\n",
       "      <td>Yum! Serves really good sushi. Not the biggest...</td>\n",
       "      <td>NULL; positive\\nsushi; positive\\nportions; ne...</td>\n",
       "      <td>sum serve good big portion adequate green tea ...</td>\n",
       "      <td>[{'aspect': 'rule', 'description': 'green'}]</td>\n",
       "      <td>[rule]</td>\n",
       "      <td>CompletedTask(text=\"Yum! Serves really good su...</td>\n",
       "    </tr>\n",
       "    <tr>\n",
       "      <th>1</th>\n",
       "      <td>en_BlueRibbonSushi_478218345</td>\n",
       "      <td>No Comparison – I can't say enough about this ...</td>\n",
       "      <td>NULL; positive\\nplace; positive\\nsushi; posit...</td>\n",
       "      <td>comparison – place great service entire staff ...</td>\n",
       "      <td>[{'aspect': 'comparison', 'description': 'extr...</td>\n",
       "      <td>[comparison]</td>\n",
       "      <td>CompletedTask(text=\"No Comparison – I can't sa...</td>\n",
       "    </tr>\n",
       "    <tr>\n",
       "      <th>2</th>\n",
       "      <td>en_SchoonerOrLater_477965690</td>\n",
       "      <td>Snotty Attitude – We were treated very rudely ...</td>\n",
       "      <td>NULL; negative\\nowner; negative END</td>\n",
       "      <td>knotty attitude – treat rudely time breakfast ...</td>\n",
       "      <td>[{'aspect': 'attitude', 'description': 'rudely'}]</td>\n",
       "      <td>[attitude]</td>\n",
       "      <td>CompletedTask(text='Snotty Attitude – We were ...</td>\n",
       "    </tr>\n",
       "    <tr>\n",
       "      <th>3</th>\n",
       "      <td>en_SchoonerOrLater_477965849</td>\n",
       "      <td>Good food! – We love breakfast food. This is a...</td>\n",
       "      <td>food; positive\\nmeal; positive\\nNULL; positiv...</td>\n",
       "      <td>good food – love breakfast food great place de...</td>\n",
       "      <td>[{'aspect': 'staff', 'description': 'great'}]</td>\n",
       "      <td>[staff]</td>\n",
       "      <td>CompletedTask(text='Good food! – We love break...</td>\n",
       "    </tr>\n",
       "    <tr>\n",
       "      <th>4</th>\n",
       "      <td>en_ParkChaletGardenRestaurant_477778282</td>\n",
       "      <td>Worst Service I Ever Had – A group of 5 of us ...</td>\n",
       "      <td>Service; positive\\nservice; negative\\nwaiter;...</td>\n",
       "      <td>bad service – group sunday branch sit outside ...</td>\n",
       "      <td>[{'aspect': 'food', 'description': 'apologetic'}]</td>\n",
       "      <td>[food]</td>\n",
       "      <td>CompletedTask(text='Worst Service I Ever Had –...</td>\n",
       "    </tr>\n",
       "  </tbody>\n",
       "</table>\n",
       "</div>"
      ],
      "text/plain": [
       "                                        id  \\\n",
       "0             en_BlueRibbonSushi_478218171   \n",
       "1             en_BlueRibbonSushi_478218345   \n",
       "2             en_SchoonerOrLater_477965690   \n",
       "3             en_SchoonerOrLater_477965849   \n",
       "4  en_ParkChaletGardenRestaurant_477778282   \n",
       "\n",
       "                                                text  \\\n",
       "0  Yum! Serves really good sushi. Not the biggest...   \n",
       "1  No Comparison – I can't say enough about this ...   \n",
       "2  Snotty Attitude – We were treated very rudely ...   \n",
       "3  Good food! – We love breakfast food. This is a...   \n",
       "4  Worst Service I Ever Had – A group of 5 of us ...   \n",
       "\n",
       "                                          completion  \\\n",
       "0   NULL; positive\\nsushi; positive\\nportions; ne...   \n",
       "1   NULL; positive\\nplace; positive\\nsushi; posit...   \n",
       "2                NULL; negative\\nowner; negative END   \n",
       "3   food; positive\\nmeal; positive\\nNULL; positiv...   \n",
       "4   Service; positive\\nservice; negative\\nwaiter;...   \n",
       "\n",
       "                                          text_clean  \\\n",
       "0  sum serve good big portion adequate green tea ...   \n",
       "1  comparison – place great service entire staff ...   \n",
       "2  knotty attitude – treat rudely time breakfast ...   \n",
       "3  good food – love breakfast food great place de...   \n",
       "4  bad service – group sunday branch sit outside ...   \n",
       "\n",
       "                                           absa_rule        aspect  \\\n",
       "0       [{'aspect': 'rule', 'description': 'green'}]        [rule]   \n",
       "1  [{'aspect': 'comparison', 'description': 'extr...  [comparison]   \n",
       "2  [{'aspect': 'attitude', 'description': 'rudely'}]    [attitude]   \n",
       "3      [{'aspect': 'staff', 'description': 'great'}]       [staff]   \n",
       "4  [{'aspect': 'food', 'description': 'apologetic'}]        [food]   \n",
       "\n",
       "                                                absa  \n",
       "0  CompletedTask(text=\"Yum! Serves really good su...  \n",
       "1  CompletedTask(text=\"No Comparison – I can't sa...  \n",
       "2  CompletedTask(text='Snotty Attitude – We were ...  \n",
       "3  CompletedTask(text='Good food! – We love break...  \n",
       "4  CompletedTask(text='Worst Service I Ever Had –...  "
      ]
     },
     "execution_count": 79,
     "metadata": {},
     "output_type": "execute_result"
    }
   ],
   "source": [
    "# 80min\n",
    "test_df['absa'] = test_df.apply(lambda x: nlp_absa(text=x['text'], aspects=x['aspect']), axis=1)\n",
    "\n",
    "# Saving\n",
    "try:\n",
    "    test_df.drop(columns='absa').to_parquet(os.path.join(out_dir, product+'_absa_df.parquet'))\n",
    "except:\n",
    "    print('Saved as pickle and csv')\n",
    "    test_df.to_pickle(os.path.join(out_dir, 'product_df.pickle'))\n",
    "    test_df.to_csv(os.path.join(out_dir, 'product_df.csv'))\n",
    "    test_df.drop(columns='absa').to_parquet(os.path.join(out_dir, product+'_absa_df.parquet'))\n",
    "\n",
    "test_df.head()"
   ]
  },
  {
   "cell_type": "code",
   "execution_count": 132,
   "id": "e432c43d",
   "metadata": {},
   "outputs": [
    {
     "data": {
      "text/html": [
       "<div>\n",
       "<style scoped>\n",
       "    .dataframe tbody tr th:only-of-type {\n",
       "        vertical-align: middle;\n",
       "    }\n",
       "\n",
       "    .dataframe tbody tr th {\n",
       "        vertical-align: top;\n",
       "    }\n",
       "\n",
       "    .dataframe thead th {\n",
       "        text-align: right;\n",
       "    }\n",
       "</style>\n",
       "<table border=\"1\" class=\"dataframe\">\n",
       "  <thead>\n",
       "    <tr style=\"text-align: right;\">\n",
       "      <th></th>\n",
       "      <th>review_id</th>\n",
       "      <th>text</th>\n",
       "      <th>aspect</th>\n",
       "      <th>sentiment</th>\n",
       "      <th>positive</th>\n",
       "      <th>negative</th>\n",
       "      <th>neutral</th>\n",
       "    </tr>\n",
       "  </thead>\n",
       "  <tbody>\n",
       "    <tr>\n",
       "      <th>0</th>\n",
       "      <td>en_BlueRibbonSushi_478218171</td>\n",
       "      <td>Yum! Serves really good sushi. Not the biggest...</td>\n",
       "      <td>Rule</td>\n",
       "      <td>Positive</td>\n",
       "      <td>0.103454</td>\n",
       "      <td>0.376839</td>\n",
       "      <td>0.519708</td>\n",
       "    </tr>\n",
       "    <tr>\n",
       "      <th>1</th>\n",
       "      <td>en_BlueRibbonSushi_478218345</td>\n",
       "      <td>No Comparison – I can't say enough about this ...</td>\n",
       "      <td>Comparison</td>\n",
       "      <td>Positive</td>\n",
       "      <td>0.001361</td>\n",
       "      <td>0.000857</td>\n",
       "      <td>0.997782</td>\n",
       "    </tr>\n",
       "    <tr>\n",
       "      <th>2</th>\n",
       "      <td>en_SchoonerOrLater_477965690</td>\n",
       "      <td>Snotty Attitude – We were treated very rudely ...</td>\n",
       "      <td>Attitude</td>\n",
       "      <td>Negative</td>\n",
       "      <td>0.002322</td>\n",
       "      <td>0.895459</td>\n",
       "      <td>0.102219</td>\n",
       "    </tr>\n",
       "    <tr>\n",
       "      <th>3</th>\n",
       "      <td>en_SchoonerOrLater_477965849</td>\n",
       "      <td>Good food! – We love breakfast food. This is a...</td>\n",
       "      <td>Staff</td>\n",
       "      <td>Positive</td>\n",
       "      <td>0.000632</td>\n",
       "      <td>0.000963</td>\n",
       "      <td>0.998404</td>\n",
       "    </tr>\n",
       "    <tr>\n",
       "      <th>4</th>\n",
       "      <td>en_ParkChaletGardenRestaurant_477778282</td>\n",
       "      <td>Worst Service I Ever Had – A group of 5 of us ...</td>\n",
       "      <td>Food</td>\n",
       "      <td>Neutral</td>\n",
       "      <td>0.894267</td>\n",
       "      <td>0.104207</td>\n",
       "      <td>0.001526</td>\n",
       "    </tr>\n",
       "  </tbody>\n",
       "</table>\n",
       "</div>"
      ],
      "text/plain": [
       "                                 review_id  \\\n",
       "0             en_BlueRibbonSushi_478218171   \n",
       "1             en_BlueRibbonSushi_478218345   \n",
       "2             en_SchoonerOrLater_477965690   \n",
       "3             en_SchoonerOrLater_477965849   \n",
       "4  en_ParkChaletGardenRestaurant_477778282   \n",
       "\n",
       "                                                text      aspect sentiment  \\\n",
       "0  Yum! Serves really good sushi. Not the biggest...        Rule  Positive   \n",
       "1  No Comparison – I can't say enough about this ...  Comparison  Positive   \n",
       "2  Snotty Attitude – We were treated very rudely ...    Attitude  Negative   \n",
       "3  Good food! – We love breakfast food. This is a...       Staff  Positive   \n",
       "4  Worst Service I Ever Had – A group of 5 of us ...        Food   Neutral   \n",
       "\n",
       "   positive  negative   neutral  \n",
       "0  0.103454  0.376839  0.519708  \n",
       "1  0.001361  0.000857  0.997782  \n",
       "2  0.002322  0.895459  0.102219  \n",
       "3  0.000632  0.000963  0.998404  \n",
       "4  0.894267  0.104207  0.001526  "
      ]
     },
     "execution_count": 132,
     "metadata": {},
     "output_type": "execute_result"
    }
   ],
   "source": [
    "# Expanding per aspect\n",
    "def expand_absa(test_df = test_df):\n",
    "  \"\"\"\n",
    "  \"\"\"\n",
    "  result_df = pd.DataFrame()\n",
    "\n",
    "  for index, row in test_df.iterrows():\n",
    "    for example in row['absa'].examples:\n",
    "      new_row = {\n",
    "      'review_id': row['review_id'],\n",
    "      #'asin': row['asin'],\n",
    "      'text': row['text'],\n",
    "      #'overall': row['overall'],\n",
    "      'aspect': example.aspect.strip().title(),\n",
    "      'sentiment':  str(example.sentiment).split(\".\")[1].strip().title(),\n",
    "      'positive': example.scores[0],\n",
    "      'negative': example.scores[1],\n",
    "      'neutral': example.scores[2],\n",
    "      }\n",
    "      new_row = pd.DataFrame.from_dict(new_row, orient='index').T\n",
    "      result_df = pd.concat([result_df, new_row], axis=0, ignore_index=True)\n",
    "\n",
    "  result_df.to_parquet(os.path.join(out_dir, product+'_result_df.parquet'))\n",
    "  return result_df\n",
    "\n",
    "result_df = expand_absa()\n",
    "result_df.head()"
   ]
  },
  {
   "cell_type": "code",
   "execution_count": 99,
   "id": "0681233e",
   "metadata": {},
   "outputs": [
    {
     "data": {
      "text/html": [
       "<div>\n",
       "<style scoped>\n",
       "    .dataframe tbody tr th:only-of-type {\n",
       "        vertical-align: middle;\n",
       "    }\n",
       "\n",
       "    .dataframe tbody tr th {\n",
       "        vertical-align: top;\n",
       "    }\n",
       "\n",
       "    .dataframe thead th {\n",
       "        text-align: right;\n",
       "    }\n",
       "</style>\n",
       "<table border=\"1\" class=\"dataframe\">\n",
       "  <thead>\n",
       "    <tr style=\"text-align: right;\">\n",
       "      <th></th>\n",
       "      <th>review_id</th>\n",
       "      <th>text</th>\n",
       "      <th>aspect_true</th>\n",
       "      <th>sentiment_true</th>\n",
       "      <th>aspect_pred</th>\n",
       "      <th>sentiment_pred</th>\n",
       "    </tr>\n",
       "  </thead>\n",
       "  <tbody>\n",
       "    <tr>\n",
       "      <th>0</th>\n",
       "      <td>En Blueribbonsushi 478218171</td>\n",
       "      <td>Yum! Serves Really Good Sushi. Not The Biggest...</td>\n",
       "      <td>Null</td>\n",
       "      <td>Positive</td>\n",
       "      <td>NaN</td>\n",
       "      <td>NaN</td>\n",
       "    </tr>\n",
       "    <tr>\n",
       "      <th>1</th>\n",
       "      <td>En Blueribbonsushi 478218171</td>\n",
       "      <td>Yum! Serves Really Good Sushi. Not The Biggest...</td>\n",
       "      <td>Sushi</td>\n",
       "      <td>Positive</td>\n",
       "      <td>NaN</td>\n",
       "      <td>NaN</td>\n",
       "    </tr>\n",
       "    <tr>\n",
       "      <th>2</th>\n",
       "      <td>En Blueribbonsushi 478218171</td>\n",
       "      <td>Yum! Serves Really Good Sushi. Not The Biggest...</td>\n",
       "      <td>Portions</td>\n",
       "      <td>Neutral</td>\n",
       "      <td>NaN</td>\n",
       "      <td>NaN</td>\n",
       "    </tr>\n",
       "    <tr>\n",
       "      <th>3</th>\n",
       "      <td>En Blueribbonsushi 478218171</td>\n",
       "      <td>Yum! Serves Really Good Sushi. Not The Biggest...</td>\n",
       "      <td>Green Tea Creme Brulee</td>\n",
       "      <td>Positive</td>\n",
       "      <td>NaN</td>\n",
       "      <td>NaN</td>\n",
       "    </tr>\n",
       "    <tr>\n",
       "      <th>4</th>\n",
       "      <td>En Blueribbonsushi 478218345</td>\n",
       "      <td>No Comparison – I Can'T Say Enough About This ...</td>\n",
       "      <td>Null</td>\n",
       "      <td>Positive</td>\n",
       "      <td>NaN</td>\n",
       "      <td>NaN</td>\n",
       "    </tr>\n",
       "    <tr>\n",
       "      <th>...</th>\n",
       "      <td>...</td>\n",
       "      <td>...</td>\n",
       "      <td>...</td>\n",
       "      <td>...</td>\n",
       "      <td>...</td>\n",
       "      <td>...</td>\n",
       "    </tr>\n",
       "    <tr>\n",
       "      <th>783</th>\n",
       "      <td>en_SnoozeanAMEatery_480171723</td>\n",
       "      <td>meal all together. I rejected it because in th...</td>\n",
       "      <td>NaN</td>\n",
       "      <td>NaN</td>\n",
       "      <td>Peep</td>\n",
       "      <td>Negative</td>\n",
       "    </tr>\n",
       "    <tr>\n",
       "      <th>784</th>\n",
       "      <td>en_Ray'sBoathouse_477775918</td>\n",
       "      <td>Much more than just a great view! – I am excee...</td>\n",
       "      <td>NaN</td>\n",
       "      <td>NaN</td>\n",
       "      <td>Ray</td>\n",
       "      <td>Positive</td>\n",
       "    </tr>\n",
       "    <tr>\n",
       "      <th>785</th>\n",
       "      <td>en_Ray'sBoathouse_477775918</td>\n",
       "      <td>of two was feeling particularly ambitious, and...</td>\n",
       "      <td>NaN</td>\n",
       "      <td>NaN</td>\n",
       "      <td>Compliment</td>\n",
       "      <td>Positive</td>\n",
       "    </tr>\n",
       "    <tr>\n",
       "      <th>786</th>\n",
       "      <td>en_Ray'sBoathouse_477775918</td>\n",
       "      <td>makes them unique (not to mention tasty). My f...</td>\n",
       "      <td>NaN</td>\n",
       "      <td>NaN</td>\n",
       "      <td>Dinner</td>\n",
       "      <td>Neutral</td>\n",
       "    </tr>\n",
       "    <tr>\n",
       "      <th>787</th>\n",
       "      <td>en_Ray'sBoathouse_477775918</td>\n",
       "      <td>preteen who pretended to gag every time seafoo...</td>\n",
       "      <td>NaN</td>\n",
       "      <td>NaN</td>\n",
       "      <td>Idea</td>\n",
       "      <td>Neutral</td>\n",
       "    </tr>\n",
       "  </tbody>\n",
       "</table>\n",
       "<p>788 rows × 6 columns</p>\n",
       "</div>"
      ],
      "text/plain": [
       "                         review_id  \\\n",
       "0     En Blueribbonsushi 478218171   \n",
       "1     En Blueribbonsushi 478218171   \n",
       "2     En Blueribbonsushi 478218171   \n",
       "3     En Blueribbonsushi 478218171   \n",
       "4     En Blueribbonsushi 478218345   \n",
       "..                             ...   \n",
       "783  en_SnoozeanAMEatery_480171723   \n",
       "784    en_Ray'sBoathouse_477775918   \n",
       "785    en_Ray'sBoathouse_477775918   \n",
       "786    en_Ray'sBoathouse_477775918   \n",
       "787    en_Ray'sBoathouse_477775918   \n",
       "\n",
       "                                                  text  \\\n",
       "0    Yum! Serves Really Good Sushi. Not The Biggest...   \n",
       "1    Yum! Serves Really Good Sushi. Not The Biggest...   \n",
       "2    Yum! Serves Really Good Sushi. Not The Biggest...   \n",
       "3    Yum! Serves Really Good Sushi. Not The Biggest...   \n",
       "4    No Comparison – I Can'T Say Enough About This ...   \n",
       "..                                                 ...   \n",
       "783  meal all together. I rejected it because in th...   \n",
       "784  Much more than just a great view! – I am excee...   \n",
       "785  of two was feeling particularly ambitious, and...   \n",
       "786  makes them unique (not to mention tasty). My f...   \n",
       "787  preteen who pretended to gag every time seafoo...   \n",
       "\n",
       "                aspect_true sentiment_true aspect_pred sentiment_pred  \n",
       "0                      Null       Positive         NaN            NaN  \n",
       "1                     Sushi       Positive         NaN            NaN  \n",
       "2                  Portions        Neutral         NaN            NaN  \n",
       "3    Green Tea Creme Brulee       Positive         NaN            NaN  \n",
       "4                      Null       Positive         NaN            NaN  \n",
       "..                      ...            ...         ...            ...  \n",
       "783                     NaN            NaN        Peep       Negative  \n",
       "784                     NaN            NaN         Ray       Positive  \n",
       "785                     NaN            NaN  Compliment       Positive  \n",
       "786                     NaN            NaN      Dinner        Neutral  \n",
       "787                     NaN            NaN        Idea        Neutral  \n",
       "\n",
       "[788 rows x 6 columns]"
      ]
     },
     "execution_count": 99,
     "metadata": {},
     "output_type": "execute_result"
    }
   ],
   "source": [
    "# Evaluation\n",
    "y_test_df = pd.read_parquet(os.path.join(in_dir, 'test_data.parquet'))\n",
    "y_test_df = from_ai_to_df(y_test_df, column = \"completion\")\n",
    "y_test_df = y_test_df.rename(columns={'prompt':'text', 'id': 'review_id', 'OTE': 'aspect', 'Entity':'sentiment'})\n",
    "eval_df = y_test_df.merge(result_df[['review_id', 'text', 'aspect', 'sentiment']], left_on=['review_id','text'], right_on=['review_id','text'], suffixes=('_true', '_pred'), how='outer')\n",
    "eval_df.to_parquet(os.path.join(out_dir, product+'_eval.parquet'))\n",
    "eval_df\n",
    "# OTE task failed."
   ]
  },
  {
   "cell_type": "code",
   "execution_count": 131,
   "id": "574166b6",
   "metadata": {},
   "outputs": [
    {
     "data": {
      "text/html": [
       "<div>\n",
       "<style scoped>\n",
       "    .dataframe tbody tr th:only-of-type {\n",
       "        vertical-align: middle;\n",
       "    }\n",
       "\n",
       "    .dataframe tbody tr th {\n",
       "        vertical-align: top;\n",
       "    }\n",
       "\n",
       "    .dataframe thead th {\n",
       "        text-align: right;\n",
       "    }\n",
       "</style>\n",
       "<table border=\"1\" class=\"dataframe\">\n",
       "  <thead>\n",
       "    <tr style=\"text-align: right;\">\n",
       "      <th></th>\n",
       "      <th>review_id</th>\n",
       "      <th>text</th>\n",
       "      <th>aspect</th>\n",
       "      <th>absa</th>\n",
       "    </tr>\n",
       "  </thead>\n",
       "  <tbody>\n",
       "    <tr>\n",
       "      <th>0</th>\n",
       "      <td>En Blueribbonsushi 478218171</td>\n",
       "      <td>Yum! Serves Really Good Sushi. Not The Biggest...</td>\n",
       "      <td>[Sushi, Portions, Green Tea Creme Brulee]</td>\n",
       "      <td>CompletedTask(text=\"Yum! Serves Really Good Su...</td>\n",
       "    </tr>\n",
       "    <tr>\n",
       "      <th>1</th>\n",
       "      <td>En Blueribbonsushi 478218333</td>\n",
       "      <td>Great Meal – The Fish On The Omikase Platter W...</td>\n",
       "      <td>[Meal, Fish On The Omikase Platter, Waitstaff,...</td>\n",
       "      <td>CompletedTask(text=\"Great Meal – The Fish On T...</td>\n",
       "    </tr>\n",
       "    <tr>\n",
       "      <th>2</th>\n",
       "      <td>En Blueribbonsushi 478218334</td>\n",
       "      <td>Whose Writing All The Great Reviews? Why Is It...</td>\n",
       "      <td>[Place, Fish, Chef Special Dinner, Plate, Exot...</td>\n",
       "      <td>CompletedTask(text='Whose Writing All The Grea...</td>\n",
       "    </tr>\n",
       "    <tr>\n",
       "      <th>3</th>\n",
       "      <td>En Blueribbonsushi 478218337</td>\n",
       "      <td>Good Sake, Good Food – I Honestly Don'T Know M...</td>\n",
       "      <td>[Sake, Food, Server, Lobster 3 Ways]</td>\n",
       "      <td>CompletedTask(text=\"Good Sake, Good Food – I H...</td>\n",
       "    </tr>\n",
       "    <tr>\n",
       "      <th>4</th>\n",
       "      <td>En Blueribbonsushi 478218339</td>\n",
       "      <td>Love It Every Time  I Was Frankly Shocked When...</td>\n",
       "      <td>[Place, Food, Waiting Staff, Wait]</td>\n",
       "      <td>CompletedTask(text=\"Love It Every Time  I Was ...</td>\n",
       "    </tr>\n",
       "    <tr>\n",
       "      <th>...</th>\n",
       "      <td>...</td>\n",
       "      <td>...</td>\n",
       "      <td>...</td>\n",
       "      <td>...</td>\n",
       "    </tr>\n",
       "    <tr>\n",
       "      <th>85</th>\n",
       "      <td>En Snoozeanameatery 480171723</td>\n",
       "      <td>Insultingly Overpriced - Mediocre Service/Qual...</td>\n",
       "      <td>[Service, Snooze, Menu, Snooze, Orange Juice, ...</td>\n",
       "      <td>CompletedTask(text='Insultingly Overpriced - M...</td>\n",
       "    </tr>\n",
       "    <tr>\n",
       "      <th>86</th>\n",
       "      <td>En Snoozeanameatery 480412257</td>\n",
       "      <td>Overpriced – We Dined At The Colorado Location...</td>\n",
       "      <td>[Waiter, Feel, Bathroom Stall, Menu, Food, Food]</td>\n",
       "      <td>CompletedTask(text='Overpriced – We Dined At T...</td>\n",
       "    </tr>\n",
       "    <tr>\n",
       "      <th>87</th>\n",
       "      <td>En Stackrestaurant  Bar 478538111</td>\n",
       "      <td>Late Night Dinning With Exeptional Food. – I D...</td>\n",
       "      <td>[Food, Table, Service, Waiters, Filet Mignon, ...</td>\n",
       "      <td>CompletedTask(text=\"Late Night Dinning With Ex...</td>\n",
       "    </tr>\n",
       "    <tr>\n",
       "      <th>88</th>\n",
       "      <td>En Stackrestaurant  Bar 478538239</td>\n",
       "      <td>Good Food, Great Service, Average Prices (For ...</td>\n",
       "      <td>[Food, Service, Price Fixed Pre-Show Dinner, W...</td>\n",
       "      <td>CompletedTask(text=\"Good Food, Great Service, ...</td>\n",
       "    </tr>\n",
       "    <tr>\n",
       "      <th>89</th>\n",
       "      <td>En Stackrestaurant  Bar 478538242</td>\n",
       "      <td>Seafood Plus – This Was  Great Dining Experien...</td>\n",
       "      <td>[Seafood, Appetizer Of Oysters, Lobster, Crab ...</td>\n",
       "      <td>CompletedTask(text=\"Seafood Plus – This Was  G...</td>\n",
       "    </tr>\n",
       "  </tbody>\n",
       "</table>\n",
       "<p>90 rows × 4 columns</p>\n",
       "</div>"
      ],
      "text/plain": [
       "                            review_id  \\\n",
       "0        En Blueribbonsushi 478218171   \n",
       "1        En Blueribbonsushi 478218333   \n",
       "2        En Blueribbonsushi 478218334   \n",
       "3        En Blueribbonsushi 478218337   \n",
       "4        En Blueribbonsushi 478218339   \n",
       "..                                ...   \n",
       "85      En Snoozeanameatery 480171723   \n",
       "86      En Snoozeanameatery 480412257   \n",
       "87  En Stackrestaurant  Bar 478538111   \n",
       "88  En Stackrestaurant  Bar 478538239   \n",
       "89  En Stackrestaurant  Bar 478538242   \n",
       "\n",
       "                                                 text  \\\n",
       "0   Yum! Serves Really Good Sushi. Not The Biggest...   \n",
       "1   Great Meal – The Fish On The Omikase Platter W...   \n",
       "2   Whose Writing All The Great Reviews? Why Is It...   \n",
       "3   Good Sake, Good Food – I Honestly Don'T Know M...   \n",
       "4   Love It Every Time  I Was Frankly Shocked When...   \n",
       "..                                                ...   \n",
       "85  Insultingly Overpriced - Mediocre Service/Qual...   \n",
       "86  Overpriced – We Dined At The Colorado Location...   \n",
       "87  Late Night Dinning With Exeptional Food. – I D...   \n",
       "88  Good Food, Great Service, Average Prices (For ...   \n",
       "89  Seafood Plus – This Was  Great Dining Experien...   \n",
       "\n",
       "                                               aspect  \\\n",
       "0           [Sushi, Portions, Green Tea Creme Brulee]   \n",
       "1   [Meal, Fish On The Omikase Platter, Waitstaff,...   \n",
       "2   [Place, Fish, Chef Special Dinner, Plate, Exot...   \n",
       "3                [Sake, Food, Server, Lobster 3 Ways]   \n",
       "4                  [Place, Food, Waiting Staff, Wait]   \n",
       "..                                                ...   \n",
       "85  [Service, Snooze, Menu, Snooze, Orange Juice, ...   \n",
       "86   [Waiter, Feel, Bathroom Stall, Menu, Food, Food]   \n",
       "87  [Food, Table, Service, Waiters, Filet Mignon, ...   \n",
       "88  [Food, Service, Price Fixed Pre-Show Dinner, W...   \n",
       "89  [Seafood, Appetizer Of Oysters, Lobster, Crab ...   \n",
       "\n",
       "                                                 absa  \n",
       "0   CompletedTask(text=\"Yum! Serves Really Good Su...  \n",
       "1   CompletedTask(text=\"Great Meal – The Fish On T...  \n",
       "2   CompletedTask(text='Whose Writing All The Grea...  \n",
       "3   CompletedTask(text=\"Good Sake, Good Food – I H...  \n",
       "4   CompletedTask(text=\"Love It Every Time  I Was ...  \n",
       "..                                                ...  \n",
       "85  CompletedTask(text='Insultingly Overpriced - M...  \n",
       "86  CompletedTask(text='Overpriced – We Dined At T...  \n",
       "87  CompletedTask(text=\"Late Night Dinning With Ex...  \n",
       "88  CompletedTask(text=\"Good Food, Great Service, ...  \n",
       "89  CompletedTask(text=\"Seafood Plus – This Was  G...  \n",
       "\n",
       "[90 rows x 4 columns]"
      ]
     },
     "execution_count": 131,
     "metadata": {},
     "output_type": "execute_result"
    }
   ],
   "source": [
    "# Trying just sentiment analysis\n",
    "y_test_df = pd.read_parquet(os.path.join(in_dir, 'test_data.parquet'))\n",
    "y_test_df = from_ai_to_df(y_test_df, column = \"completion\")\n",
    "y_test_df = y_test_df.rename(columns={'prompt':'text', 'id': 'review_id', 'OTE': 'aspect', 'Entity': 'sentiment'})\n",
    "# Without an aspect in this framework it is not possible to retrieve the sentiment\n",
    "y_test_df = y_test_df[y_test_df['aspect'] != 'Null']\n",
    "aspects = y_test_df.groupby(['review_id','text'])['aspect'].agg(list).reset_index()\n",
    "# ABSA\n",
    "aspects['absa'] = aspects.apply(lambda x: nlp_absa(text=x['text'], aspects=x['aspect']), axis=1)\n",
    "aspects"
   ]
  },
  {
   "cell_type": "code",
   "execution_count": 159,
   "id": "44ea1d63",
   "metadata": {},
   "outputs": [
    {
     "data": {
      "text/html": [
       "<div>\n",
       "<style scoped>\n",
       "    .dataframe tbody tr th:only-of-type {\n",
       "        vertical-align: middle;\n",
       "    }\n",
       "\n",
       "    .dataframe tbody tr th {\n",
       "        vertical-align: top;\n",
       "    }\n",
       "\n",
       "    .dataframe thead th {\n",
       "        text-align: right;\n",
       "    }\n",
       "</style>\n",
       "<table border=\"1\" class=\"dataframe\">\n",
       "  <thead>\n",
       "    <tr style=\"text-align: right;\">\n",
       "      <th></th>\n",
       "      <th>precision</th>\n",
       "      <th>recall</th>\n",
       "      <th>f1-score</th>\n",
       "      <th>support</th>\n",
       "    </tr>\n",
       "  </thead>\n",
       "  <tbody>\n",
       "    <tr>\n",
       "      <th>Negative</th>\n",
       "      <td>0.740000</td>\n",
       "      <td>0.616667</td>\n",
       "      <td>0.672727</td>\n",
       "      <td>120.000000</td>\n",
       "    </tr>\n",
       "    <tr>\n",
       "      <th>Neutral</th>\n",
       "      <td>0.205882</td>\n",
       "      <td>0.175000</td>\n",
       "      <td>0.189189</td>\n",
       "      <td>40.000000</td>\n",
       "    </tr>\n",
       "    <tr>\n",
       "      <th>Positive</th>\n",
       "      <td>0.894212</td>\n",
       "      <td>0.943158</td>\n",
       "      <td>0.918033</td>\n",
       "      <td>475.000000</td>\n",
       "    </tr>\n",
       "    <tr>\n",
       "      <th>accuracy</th>\n",
       "      <td>0.833071</td>\n",
       "      <td>0.833071</td>\n",
       "      <td>0.833071</td>\n",
       "      <td>0.833071</td>\n",
       "    </tr>\n",
       "    <tr>\n",
       "      <th>macro avg</th>\n",
       "      <td>0.613365</td>\n",
       "      <td>0.578275</td>\n",
       "      <td>0.593316</td>\n",
       "      <td>635.000000</td>\n",
       "    </tr>\n",
       "    <tr>\n",
       "      <th>weighted avg</th>\n",
       "      <td>0.821710</td>\n",
       "      <td>0.833071</td>\n",
       "      <td>0.825764</td>\n",
       "      <td>635.000000</td>\n",
       "    </tr>\n",
       "  </tbody>\n",
       "</table>\n",
       "</div>"
      ],
      "text/plain": [
       "              precision    recall  f1-score     support\n",
       "Negative       0.740000  0.616667  0.672727  120.000000\n",
       "Neutral        0.205882  0.175000  0.189189   40.000000\n",
       "Positive       0.894212  0.943158  0.918033  475.000000\n",
       "accuracy       0.833071  0.833071  0.833071    0.833071\n",
       "macro avg      0.613365  0.578275  0.593316  635.000000\n",
       "weighted avg   0.821710  0.833071  0.825764  635.000000"
      ]
     },
     "metadata": {},
     "output_type": "display_data"
    },
    {
     "data": {
      "image/png": "[encoded data removed]",
      "text/plain": [
       "<Figure size 640x480 with 2 Axes>"
      ]
     },
     "metadata": {},
     "output_type": "display_data"
    }
   ],
   "source": [
    "model_name = 'BERT_'+product\n",
    "OTE_task = False\n",
    "\n",
    "result_df = expand_absa(aspects)\n",
    "eval_df = y_test_df.merge(result_df[['review_id', 'text', 'aspect', 'sentiment']], \n",
    "left_on=['review_id','text', 'aspect'], right_on=['review_id','text', 'aspect'], suffixes=('_true', '_pred'), how='outer')\n",
    "if OTE_task:\n",
    "  # To evaluate \n",
    "  y_test = np.where(eval_df['sentiment_true'].isna(), \"###\", eval_df['aspect'])\n",
    "  y_pred = np.where(eval_df['sentiment_pred'].isna(), \"###\", eval_df['aspect'])\n",
    "  cm = report(y_test, y_pred)\n",
    "else:\n",
    "  y_test = eval_df['sentiment_true']\n",
    "  y_pred = eval_df['sentiment_pred']\n",
    "  cm = report(y_test, y_pred, display_labels = y_test.unique())"
   ]
  },
  {
   "attachments": {},
   "cell_type": "markdown",
   "id": "134c126a",
   "metadata": {},
   "source": [
    "## Amazon dataset"
   ]
  },
  {
   "cell_type": "code",
   "execution_count": null,
   "id": "4a85581e",
   "metadata": {},
   "outputs": [],
   "source": [
    "product = 'laptop'\n",
    "product_df = pd.read_parquet(os.path.join(in_dir, product+'_df.parquet'))\n",
    "\n",
    "# Filtering product with 15 reviews\n",
    "asins = product_df['asin'].value_counts()\n",
    "asins = asins[(asins >= 15) & (asins <= 15)]\n",
    "product_df = product_df[product_df['asin'].isin(asins.index)].reset_index()\n",
    "product_df = product_df.rename(columns={'index':'review_id'})\n",
    "# HTML tags removal\n",
    "product_df['text']= product_df['text'].apply(lambda x: BeautifulSoup(x, 'html.parser').get_text())"
   ]
  },
  {
   "cell_type": "code",
   "execution_count": null,
   "id": "0a021d60",
   "metadata": {},
   "outputs": [],
   "source": [
    "test_df = break_row(product_df)\n",
    "# Text Cleaning\n",
    "test_df['text_clean'] = test_df['text'].apply(lambda text: clean_text(text))\n",
    "# Rule based ABSA\n",
    "test_df['absa_rule'] = test_df['text_clean'].apply(lambda text: get_absa(text))\n",
    "fig = show_aspects_graph()\n",
    "fig.show()\n",
    "# BERT\n",
    "test_df = formatting_for_absa()\n",
    "\n",
    "nlp_absa = absa.load()\n",
    "test_df['absa'] = test_df.apply(lambda x: nlp_absa(text=x['text'], aspects=x['aspect']), axis=1)\n",
    "result_df = expand_absa()\n",
    "# Evaluation"
   ]
  },
  {
   "attachments": {},
   "cell_type": "markdown",
   "id": "c8e0dd1f",
   "metadata": {},
   "source": [
    "from transformers import BertTokenizer\n",
    "#!spacy download en_core_web_sm\n",
    "import aspect_based_sentiment_analysis as absa\n",
    "from aspect_based_sentiment_analysis import Professor\n",
    "\n",
    "recognizer = absa.aux_models.BasicPatternRecognizer()\n",
    "name = 'absa/classifier-rest-0.2'\n",
    "model = absa.BertABSClassifier.from_pretrained(name)\n",
    "tokenizer = BertTokenizer.from_pretrained(name)\n",
    "professor = absa.Professor() \n",
    "text_splitter = absa.sentencizer()  # The English CNN model from SpaCy.\n",
    "nlp_absa = absa.Pipeline(model, tokenizer, professor, text_splitter)\n",
    "\n",
    "# Break down the pipeline `call` method.\n",
    "task = nlp_absa.preprocess(text=text, aspects=aspects)\n",
    "tokenized_examples = nlp_absa.tokenize(task.examples)\n",
    "input_batch = nlp_absa.encode(tokenized_examples)\n",
    "output_batch = nlp_absa.predict(input_batch)\n",
    "predictions = nlp_absa.review(tokenized_examples, output_batch)\n",
    "completed_task = nlp_absa.postprocess(task, predictions)\n",
    "absa.summary(completed_task.examples[0])"
   ]
  }
 ],
 "metadata": {
  "kernelspec": {
   "display_name": "absa_env",
   "language": "python",
   "name": "python3"
  },
  "language_info": {
   "codemirror_mode": {
    "name": "ipython",
    "version": 3
   },
   "file_extension": ".py",
   "mimetype": "text/x-python",
   "name": "python",
   "nbconvert_exporter": "python",
   "pygments_lexer": "ipython3",
   "version": "3.7.16"
  },
  "vscode": {
   "interpreter": {
    "hash": "3264b110ec35b83ec84c495aa6bb53e1f905592bcb1603246b28201b3e7a0d7d"
   }
  }
 },
 "nbformat": 4,
 "nbformat_minor": 5
}
