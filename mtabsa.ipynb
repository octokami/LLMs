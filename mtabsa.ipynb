{
 "cells": [
  {
   "cell_type": "code",
   "execution_count": 1,
   "id": "83c56459",
   "metadata": {
    "_cell_guid": "b1076dfc-b9ad-4769-8c92-a6c4dae69d19",
    "_uuid": "8f2839f25d086af736a60e9eeb907d3b93b6e0e5",
    "execution": {
     "iopub.execute_input": "2023-04-18T06:35:34.540714Z",
     "iopub.status.busy": "2023-04-18T06:35:34.540311Z",
     "iopub.status.idle": "2023-04-18T06:35:34.581720Z",
     "shell.execute_reply": "2023-04-18T06:35:34.580663Z"
    },
    "papermill": {
     "duration": 0.048416,
     "end_time": "2023-04-18T06:35:34.585108",
     "exception": false,
     "start_time": "2023-04-18T06:35:34.536692",
     "status": "completed"
    },
    "tags": []
   },
   "outputs": [
    {
     "name": "stdout",
     "output_type": "stream",
     "text": [
      "/kaggle/input/mtabsa/trainer.py\n",
      "/kaggle/input/mtabsa/run.py\n",
      "/kaggle/input/mtabsa/model_ner.py\n",
      "/kaggle/input/mtabsa/run_exp_gat_head.sh\n",
      "/kaggle/input/mtabsa/run_exp3.sh\n",
      "/kaggle/input/mtabsa/run_exp4.sh\n",
      "/kaggle/input/mtabsa/run_exp6.sh\n",
      "/kaggle/input/mtabsa/tree_samples.json\n",
      "/kaggle/input/mtabsa/model.py\n",
      "/kaggle/input/mtabsa/README.md\n",
      "/kaggle/input/mtabsa/run_exp_alpha.sh\n",
      "/kaggle/input/mtabsa/run_exp1.sh\n",
      "/kaggle/input/mtabsa/data_preprocess_twitter.py\n",
      "/kaggle/input/mtabsa/run_exp_attn.sh\n",
      "/kaggle/input/mtabsa/run_badcase.sh\n",
      "/kaggle/input/mtabsa/run_exp5.sh\n",
      "/kaggle/input/mtabsa/run_exp2.sh\n",
      "/kaggle/input/mtabsa/model_utils.py\n",
      "/kaggle/input/mtabsa/tree.py\n",
      "/kaggle/input/mtabsa/data_preprocess_semeval.py\n",
      "/kaggle/input/mtabsa/datasets.py\n",
      "/kaggle/input/mtabsa/run_parser.sh\n",
      "/kaggle/input/mtabsa/model_gcn.py\n",
      "/kaggle/input/mtabsa/run_exp_ablation.sh\n",
      "/kaggle/input/mtabsa/run.sh\n",
      "/kaggle/input/mtabsa/ner_utils.py\n",
      "/kaggle/input/mtabsa/data/twitter/train_biaffine.json\n",
      "/kaggle/input/mtabsa/data/twitter/test.raw\n",
      "/kaggle/input/mtabsa/data/twitter/test.txt.out\n",
      "/kaggle/input/mtabsa/data/twitter/test.txt\n",
      "/kaggle/input/mtabsa/data/twitter/readme.txt\n",
      "/kaggle/input/mtabsa/data/twitter/test_depparsed.json\n",
      "/kaggle/input/mtabsa/data/twitter/train_New_Depparsed.json\n",
      "/kaggle/input/mtabsa/data/twitter/train.txt.out\n",
      "/kaggle/input/mtabsa/data/twitter/train_biaffine_add_ner.json\n",
      "/kaggle/input/mtabsa/data/twitter/train.raw\n",
      "/kaggle/input/mtabsa/data/twitter/test_biaffine_add_ner.json\n",
      "/kaggle/input/mtabsa/data/twitter/train.txt\n",
      "/kaggle/input/mtabsa/data/twitter/test_New_Depparsed.json\n",
      "/kaggle/input/mtabsa/data/twitter/train_depparsed.json\n",
      "/kaggle/input/mtabsa/data/twitter/test_biaffine.json\n",
      "/kaggle/input/mtabsa/data/twitter/acl-14-short-data/test.raw\n",
      "/kaggle/input/mtabsa/data/twitter/acl-14-short-data/readme.txt\n",
      "/kaggle/input/mtabsa/data/twitter/acl-14-short-data/train.raw\n",
      "/kaggle/input/mtabsa/data/semeval14/Laptops_Test_Gold.xml\n",
      "/kaggle/input/mtabsa/data/semeval14/Restaurants_Test_Gold_text.txt\n",
      "/kaggle/input/mtabsa/data/semeval14/Laptop_Train_v2.xml\n",
      "/kaggle/input/mtabsa/data/semeval14/Laptop_Test_parser.json\n",
      "/kaggle/input/mtabsa/data/semeval14/Laptops_Test_Gold_add_ner.json\n",
      "/kaggle/input/mtabsa/data/semeval14/Restaurants_Train_v2_biaffine_depparsed_with_energy.json\n",
      "/kaggle/input/mtabsa/data/semeval14/Laptop_Train_v2_add_ner.json\n",
      "/kaggle/input/mtabsa/data/semeval14/Restaurants_Train_v2_text.txt\n",
      "/kaggle/input/mtabsa/data/semeval14/Laptop_Train_v2_biaffine_depparsed.json\n",
      "/kaggle/input/mtabsa/data/semeval14/Restaurants_Train_parser.json\n",
      "/kaggle/input/mtabsa/data/semeval14/Restaurants_Train_add_ner_remove_error_change_froms.json\n",
      "/kaggle/input/mtabsa/data/semeval14/Restaurants_Train_v2_biaffine_depparsed.json\n",
      "/kaggle/input/mtabsa/data/semeval14/Restaurants_Train_add_ner.json\n",
      "/kaggle/input/mtabsa/data/semeval14/Restaurants_Test_parser.json\n",
      "/kaggle/input/mtabsa/data/semeval14/Laptops_Test_Gold_text.txt\n",
      "/kaggle/input/mtabsa/data/semeval14/Laptops_Test_Gold_depparsed.json\n",
      "/kaggle/input/mtabsa/data/semeval14/Laptop_Train_parser.json\n",
      "/kaggle/input/mtabsa/data/semeval14/Twitter_Test_parser.json\n",
      "/kaggle/input/mtabsa/data/semeval14/Laptops_Test_Gold_biaffine_depparsed.json\n",
      "/kaggle/input/mtabsa/data/semeval14/Restaurants_Train_v2.xml\n",
      "/kaggle/input/mtabsa/data/semeval14/Laptop_Train_v2_text.txt\n",
      "/kaggle/input/mtabsa/data/semeval14/Restaurants_Train_v2_depparsed.json\n",
      "/kaggle/input/mtabsa/data/semeval14/Laptop_Train_v2_depparsed.json\n",
      "/kaggle/input/mtabsa/data/semeval14/Restaurants_Test_add_ner_remove_error.json\n",
      "/kaggle/input/mtabsa/data/semeval14/Restaurants_Test_add_ner.json\n",
      "/kaggle/input/mtabsa/data/semeval14/Restaurants_Test_Gold_biaffine_depparsed.json\n",
      "/kaggle/input/mtabsa/data/semeval14/Restaurants_Train_add_ner_remove_error.json\n",
      "/kaggle/input/mtabsa/data/semeval14/Restaurants_Test_Gold_depparsed.json\n",
      "/kaggle/input/mtabsa/data/semeval14/Twitter_Train_parser.json\n",
      "/kaggle/input/mtabsa/data/semeval14/Restaurants_Test_add_ner_remove_error_change_froms.json\n",
      "/kaggle/input/mtabsa/data/semeval14/Restaurants_Test_Gold_biaffine_depparsed_with_energy.json\n",
      "/kaggle/input/mtabsa/data/semeval14/Restaurants_Test_Gold.xml\n",
      "/kaggle/input/mtabsa/common/RGAT.py\n",
      "/kaggle/input/mtabsa/common/transformer_encoder.py\n",
      "/kaggle/input/mtabsa/common/transformer_decoder.py\n",
      "/kaggle/input/mtabsa/common/sublayer.py\n",
      "/kaggle/input/mtabsa/common/tree.py\n",
      "/kaggle/input/mtabsa/common/transformer.py\n"
     ]
    }
   ],
   "source": [
    "# This Python 3 environment comes with many helpful analytics libraries installed\n",
    "# It is defined by the kaggle/python Docker image: https://github.com/kaggle/docker-python\n",
    "# For example, here's several helpful packages to load\n",
    "\n",
    "import numpy as np # linear algebra\n",
    "import pandas as pd # data processing, CSV file I/O (e.g. pd.read_csv)\n",
    "\n",
    "# Input data files are available in the read-only \"../input/\" directory\n",
    "# For example, running this (by clicking run or pressing Shift+Enter) will list all files under the input directory\n",
    "\n",
    "import os\n",
    "for dirname, _, filenames in os.walk('/kaggle/input'):\n",
    "    for filename in filenames:\n",
    "        print(os.path.join(dirname, filename))\n",
    "\n",
    "# You can write up to 20GB to the current directory (/kaggle/working/) that gets preserved as output when you create a version using \"Save & Run All\" \n",
    "# You can also write temporary files to /kaggle/temp/, but they won't be saved outside of the current session"
   ]
  },
  {
   "cell_type": "code",
   "execution_count": 2,
   "id": "f9fbeaad",
   "metadata": {
    "execution": {
     "iopub.execute_input": "2023-04-18T06:35:34.589432Z",
     "iopub.status.busy": "2023-04-18T06:35:34.589115Z",
     "iopub.status.idle": "2023-04-18T06:35:35.737583Z",
     "shell.execute_reply": "2023-04-18T06:35:35.735996Z"
    },
    "papermill": {
     "duration": 1.154966,
     "end_time": "2023-04-18T06:35:35.741765",
     "exception": false,
     "start_time": "2023-04-18T06:35:34.586799",
     "status": "completed"
    },
    "tags": []
   },
   "outputs": [
    {
     "name": "stdout",
     "output_type": "stream",
     "text": [
      "bash: ./run.sh: No such file or directory\r\n"
     ]
    }
   ],
   "source": [
    "!bash ./run.sh"
   ]
  }
 ],
 "metadata": {
  "kernelspec": {
   "display_name": "Python 3",
   "language": "python",
   "name": "python3"
  },
  "language_info": {
   "codemirror_mode": {
    "name": "ipython",
    "version": 3
   },
   "file_extension": ".py",
   "mimetype": "text/x-python",
   "name": "python",
   "nbconvert_exporter": "python",
   "pygments_lexer": "ipython3",
   "version": "3.7.12"
  },
  "papermill": {
   "default_parameters": {},
   "duration": 11.499976,
   "end_time": "2023-04-18T06:35:36.365681",
   "environment_variables": {},
   "exception": null,
   "input_path": "__notebook__.ipynb",
   "output_path": "__notebook__.ipynb",
   "parameters": {},
   "start_time": "2023-04-18T06:35:24.865705",
   "version": "2.4.0"
  }
 },
 "nbformat": 4,
 "nbformat_minor": 5
}
